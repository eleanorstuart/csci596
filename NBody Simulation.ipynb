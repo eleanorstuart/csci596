{
 "cells": [
  {
   "cell_type": "code",
   "execution_count": 1,
   "id": "28d56cc4",
   "metadata": {},
   "outputs": [
    {
     "name": "stdout",
     "output_type": "stream",
     "text": [
      "Intel MKL WARNING: Support of Intel(R) Streaming SIMD Extensions 4.2 (Intel(R) SSE4.2) enabled only processors has been deprecated. Intel oneAPI Math Kernel Library 2025.0 will require Intel(R) Advanced Vector Extensions (Intel(R) AVX) instructions.\n",
      "Intel MKL WARNING: Support of Intel(R) Streaming SIMD Extensions 4.2 (Intel(R) SSE4.2) enabled only processors has been deprecated. Intel oneAPI Math Kernel Library 2025.0 will require Intel(R) Advanced Vector Extensions (Intel(R) AVX) instructions.\n"
     ]
    }
   ],
   "source": [
    "import numpy as np\n",
    "import matplotlib.pyplot as plt\n",
    "from IPython.display import display, clear_output\n",
    "#%matplotlib inline"
   ]
  },
  {
   "cell_type": "code",
   "execution_count": 49,
   "id": "16201788",
   "metadata": {},
   "outputs": [],
   "source": [
    "def getAcc( pos, mass, G, softening ):\n",
    "    \"\"\"\n",
    "    Calculate the acceleration on each particle due to Newton's Law \n",
    "    pos  is an N x 3 matrix of positions\n",
    "    mass is an N x 1 vector of masses\n",
    "    G is Newton's Gravitational constant\n",
    "    softening is the softening length\n",
    "    a is N x 3 matrix of accelerations\n",
    "    \"\"\"\n",
    "    # positions r = [x,y,z] for all particles\n",
    "    x = pos[:,0:1]\n",
    "    y = pos[:,1:2]\n",
    "    z = pos[:,2:3]\n",
    "\n",
    "\n",
    "    \n",
    "    # calculate r (distance between particles)\n",
    "    # check if r<cross section\n",
    "    # if r<cross section then collision\n",
    "    # collision function returns how much acceleration changes?\n",
    "\n",
    "        \n",
    "    # matrix that stores all pairwise particle separations: r_j - r_i\n",
    "    dx = x.T - x\n",
    "    dy = y.T - y\n",
    "    dz = z.T - z\n",
    "\n",
    "    # matrix that stores 1/r^3 for all particle pairwise particle separations \n",
    "    inv_r3 = (dx**2 + dy**2 + dz**2 + softening**2)\n",
    "    inv_r3[inv_r3>0] = inv_r3[inv_r3>0]**(-1.5)\n",
    "\n",
    "    ax = G * (dx * inv_r3) @ mass # + collision\n",
    "    ay = G * (dy * inv_r3) @ mass # + collision\n",
    "    az = G * (dz * inv_r3) @ mass # + collision\n",
    "\n",
    "    # pack together the acceleration components\n",
    "    a = np.hstack((ax,ay,az))\n",
    "\n",
    "    return a"
   ]
  },
  {
   "cell_type": "code",
   "execution_count": null,
   "id": "6766f0ed",
   "metadata": {},
   "outputs": [],
   "source": [
    "def collision(pos, radius=0):\n",
    "    N = pos.shape[0];\n",
    "    collided=[]\n",
    "    for i in range(N):\n",
    "        for j in range(1,N):\n",
    "            if i!=j:\n",
    "                dx = pos[j,0] - pos[i,0];\n",
    "                dy = pos[j,1] - pos[i,1];\n",
    "                dz = pos[j,2] - pos[i,2];\n",
    "                if (dx**2 + dy**2) <= radius**2:\n",
    "                    #return i,j\n",
    "                    collided.append(i)\n",
    "                    collided.append(j)\n",
    "        #else:\n",
    "            #print('NO COLLISION')\n",
    "                \n",
    "    #return 0,0\n",
    "    return collided\n",
    "                \n",
    "    "
   ]
  },
  {
   "cell_type": "code",
   "execution_count": null,
   "id": "f2f13fb6",
   "metadata": {},
   "outputs": [],
   "source": [
    "def normal(pos1, pos2):\n",
    "    pos_rel = np.array([pos1[0]-pos2[0], pos1[1]-pos2[1], pos1[2]-pos2[2]])\n",
    "    pos_rel_mag = np.sqrt(pos_rel[0]**2+pos_rel[1]**2+pos_rel[2]**2)\n",
    "    return pos_rel/pos_rel_mag"
   ]
  },
  {
   "cell_type": "code",
   "execution_count": null,
   "id": "2d556406",
   "metadata": {},
   "outputs": [],
   "source": [
    "def v_rel(vel1, vel2):\n",
    "    return np.array([vel1[0]-vel2[0], vel1[1]-vel2[1], vel1[2]-vel2[2]])"
   ]
  },
  {
   "cell_type": "code",
   "execution_count": null,
   "id": "96acf2fd",
   "metadata": {},
   "outputs": [],
   "source": [
    "def v_norm(vel_rel, norm):\n",
    "    return np.dot(vel_rel, norm)*norm"
   ]
  },
  {
   "cell_type": "code",
   "execution_count": null,
   "id": "b4c2cc54",
   "metadata": {},
   "outputs": [],
   "source": [
    "def finalVelocities(pos1, pos2, vel1, vel2):\n",
    "    vel_norm=v_norm(v_rel(vel1, vel2), normal(pos1, pos2))\n",
    "    return vel1-vel_norm, vel2-vel_norm"
   ]
  },
  {
   "cell_type": "code",
   "execution_count": 152,
   "id": "8ff91ebc",
   "metadata": {},
   "outputs": [],
   "source": [
    "def getEnergy( pos, vel, mass, G ):\n",
    "    \"\"\"\n",
    "    Get kinetic energy (KE) and potential energy (PE) of simulation\n",
    "    pos is N x 3 matrix of positions\n",
    "    vel is N x 3 matrix of velocities\n",
    "    mass is an N x 1 vector of masses\n",
    "    G is Newton's Gravitational constant\n",
    "    KE is the kinetic energy of the system\n",
    "    PE is the potential energy of the system\n",
    "    \"\"\"\n",
    "    # Kinetic Energy:\n",
    "    KE = 0.5 * np.sum(np.sum( mass * vel**2 ))\n",
    "\n",
    "\n",
    "    # Potential Energy:\n",
    "\n",
    "    # positions r = [x,y,z] for all particles\n",
    "    x = pos[:,0:1]\n",
    "    y = pos[:,1:2]\n",
    "    z = pos[:,2:3]\n",
    "\n",
    "    # matrix that stores all pairwise particle separations: r_j - r_i\n",
    "    dx = x.T - x\n",
    "    dy = y.T - y\n",
    "    dz = z.T - z\n",
    "\n",
    "    # matrix that stores 1/r for all particle pairwise particle separations \n",
    "    inv_r = np.sqrt(dx**2 + dy**2 + dz**2)\n",
    "    inv_r[inv_r>0] = 1.0/inv_r[inv_r>0]\n",
    "\n",
    "    # sum over upper triangle, to count each interaction only once\n",
    "    PE = G * np.sum(np.sum(np.triu(-(mass*mass.T)*inv_r,1)))\n",
    "\n",
    "    return KE, PE;"
   ]
  },
  {
   "cell_type": "code",
   "execution_count": 169,
   "id": "112a817d",
   "metadata": {},
   "outputs": [],
   "source": [
    "def main():\n",
    "    \"\"\" N-body simulation \"\"\"\n",
    "    # Simulation parameters\n",
    "    N         = 0    # Number of particles\n",
    "    t         = 0      # current time of the simulation\n",
    "    tEnd      = 5.0   # time at which simulation ends\n",
    "    dt        = 0.01   # timestep\n",
    "    softening = 0.1    # softening length\n",
    "    G         = 1.0    # Newton's Gravitational Constant\n",
    "    radius = 0.1\n",
    "    plotRealTime = True # switch on for plotting as the simulation goes along\n",
    "\n",
    "    # Generate Initial Conditions\n",
    "    np.random.seed(17)            # set the random number generator seed\n",
    "\n",
    "    mass = 20.0*np.ones((N,1))/N  # total mass of particles is 20\n",
    "    pos  = np.random.randn(N,3)   # randomly selected positions and velocities\n",
    "    vel  = np.random.randn(N,3)\n",
    "\n",
    "    # Convert to Center-of-Mass frame\n",
    "    vel -= np.mean(mass * vel,0) / np.mean(mass)\n",
    "\n",
    "    # calculate initial gravitational accelerations\n",
    "    acc = getAcc( pos, mass, G, softening )\n",
    "\n",
    "    # calculate initial energy of system\n",
    "    KE, PE  = getEnergy( pos, vel, mass, G )\n",
    "\n",
    "    # number of timesteps\n",
    "    Nt = int(np.ceil(tEnd/dt))\n",
    "\n",
    "    # save energies, particle orbits for plotting trails\n",
    "    pos_save = np.zeros((N,3,Nt+1))\n",
    "    pos_save[:,:,0] = pos\n",
    "    KE_save = np.zeros(Nt+1)\n",
    "    KE_save[0] = KE\n",
    "    PE_save = np.zeros(Nt+1)\n",
    "    PE_save[0] = PE\n",
    "    t_all = np.arange(Nt+1)*dt\n",
    "\n",
    "    # prep figure\n",
    "    fig = plt.figure(figsize=(4,5), dpi=80)\n",
    "    grid = plt.GridSpec(3, 1, wspace=0.0, hspace=0.3)\n",
    "    ax1 = fig.add_subplot(grid[0:2,0])\n",
    "    ax2 = fig.add_subplot(grid[2,0])\n",
    "\n",
    "    # Simulation Main Loop\n",
    "    for i in range(Nt):\n",
    "        # (1/2) kick\n",
    "        vel += acc * dt/2.0\n",
    "        # drift\n",
    "        pos += vel * dt\n",
    "        # checks for collisions\n",
    "        #m,n=collision(pos, radius)\n",
    "        collided=collision(pos, radius)\n",
    "        \n",
    "        # update particles that had collisions\n",
    "        # call finalVelocity on each pair and update velocity to that\n",
    "        \n",
    "        \n",
    "        # update accelerations\n",
    "        acc = getAcc( pos, mass, G, softening ) # plus change in acc due to collision\n",
    "        # (1/2) kick\n",
    "        vel += acc * dt/2.0\n",
    "        # update time\n",
    "        t += dt\n",
    "        # get energy of system\n",
    "        KE, PE  = getEnergy( pos, vel, mass, G )\n",
    "        # save energies, positions for plotting trail\n",
    "        pos_save[:,:,i+1] = pos\n",
    "        KE_save[i+1] = KE\n",
    "        PE_save[i+1] = PE\n",
    "\n",
    "        # plot in real time\n",
    "        if plotRealTime or (i == Nt-1):\n",
    "#             plt.sca(ax1)\n",
    "            ax1.cla()\n",
    "            xx = pos_save[:,0,max(i-50,0):i+1]\n",
    "            yy = pos_save[:,1,max(i-50,0):i+1]\n",
    "            ax1.scatter(xx,yy,s=1,color=[.7,.7,1])\n",
    "            ax1.scatter(pos[:,0],pos[:,1],s=10,color='blue')\n",
    "            \n",
    "            #if m and n:\n",
    "                #print('collision!')\n",
    "                #ax1.scatter(pos[m,0],pos[m,1],s=10,color='pink')\n",
    "                #ax1.scatter(pos[n,0],pos[n,1],s=10,color='pink')\n",
    "            if collided:\n",
    "                unique=set(collided)\n",
    "                for idx in unique:\n",
    "                    ax1.scatter(pos[idx,0],pos[idx,1],s=10,color='pink')\n",
    "            \n",
    "            ax1.set(xlim=(-2, 2), ylim=(-2, 2))\n",
    "            ax1.set_aspect('equal', 'box')\n",
    "            ax1.set_xticks([-2,-1,0,1,2])\n",
    "            ax1.set_yticks([-2,-1,0,1,2])\n",
    "\n",
    "#             plt.sca(ax2)\n",
    "            ax2.cla()\n",
    "            ax2.scatter(t_all,KE_save,color='red',s=1,label='KE' if i == Nt-1 else \"\")\n",
    "            ax2.scatter(t_all,PE_save,color='blue',s=1,label='PE' if i == Nt-1 else \"\")\n",
    "            ax2.scatter(t_all,KE_save+PE_save,color='green',s=1,label='Etot' if i == Nt-1 else \"\")\n",
    "            ax2.set(xlim=(0, tEnd), ylim=(-300, 300))\n",
    "            ax2.set_aspect(0.007)\n",
    "\n",
    "            plt.pause(0.001)\n",
    "            display(fig)\n",
    "            if i < Nt-1:\n",
    "                clear_output(wait=True)\n",
    "#             fig.canvas.draw()\n",
    "        \n",
    "    # add labels/legend\n",
    "    #plt.sca(ax2)\n",
    "    \n",
    "        \n",
    "    ax2.set_xlabel('time')\n",
    "    ax2.set_ylabel('energy')\n",
    "    ax2.legend(loc='upper right')\n",
    "\n",
    "    # Save figure\n",
    "    plt.savefig('nbody.png',dpi=240)\n",
    "    plt.show()\n",
    "\n",
    "    return 0"
   ]
  },
  {
   "cell_type": "code",
   "execution_count": null,
   "id": "a6f91714",
   "metadata": {},
   "outputs": [
    {
     "data": {
      "image/png": "[encoded data removed]",
      "text/plain": [
       "<Figure size 320x400 with 2 Axes>"
      ]
     },
     "metadata": {},
     "output_type": "display_data"
    }
   ],
   "source": [
    "%%time\n",
    "if __name__== \"__main__\":\n",
    "  main()"
   ]
  },
  {
   "cell_type": "code",
   "execution_count": null,
   "id": "3ecc5e44",
   "metadata": {},
   "outputs": [],
   "source": []
  },
  {
   "cell_type": "code",
   "execution_count": 111,
   "id": "62d77e38",
   "metadata": {},
   "outputs": [
    {
     "data": {
      "text/plain": [
       "False"
      ]
     },
     "execution_count": 111,
     "metadata": {},
     "output_type": "execute_result"
    }
   ],
   "source": [
    "0.0635984469171379**2 +  (-0.020252722825680566)**2 <= 0"
   ]
  },
  {
   "cell_type": "code",
   "execution_count": null,
   "id": "e1958d08",
   "metadata": {},
   "outputs": [],
   "source": []
  }
 ],
 "metadata": {
  "kernelspec": {
   "display_name": "Python 3 (ipykernel)",
   "language": "python",
   "name": "python3"
  },
  "language_info": {
   "codemirror_mode": {
    "name": "ipython",
    "version": 3
   },
   "file_extension": ".py",
   "mimetype": "text/x-python",
   "name": "python",
   "nbconvert_exporter": "python",
   "pygments_lexer": "ipython3",
   "version": "3.11.5"
  }
 },
 "nbformat": 4,
 "nbformat_minor": 5
}
