{
 "cells": [
  {
   "cell_type": "code",
   "execution_count": 8,
   "id": "bfb9d125",
   "metadata": {},
   "outputs": [],
   "source": [
    "import numpy as np\n",
    "import matplotlib.pyplot as plt\n",
    "%matplotlib inline"
   ]
  },
  {
   "cell_type": "code",
   "execution_count": 2,
   "id": "285f8bcf",
   "metadata": {},
   "outputs": [],
   "source": [
    "def getAcc( pos, mass, G, softening ):\n",
    "    \"\"\"\n",
    "    Calculate the acceleration on each particle due to Newton's Law \n",
    "    pos  is an N x 3 matrix of positions\n",
    "    mass is an N x 1 vector of masses\n",
    "    G is Newton's Gravitational constant\n",
    "    softening is the softening length\n",
    "    a is N x 3 matrix of accelerations\n",
    "    \"\"\"\n",
    "    # positions r = [x,y,z] for all particles\n",
    "    x = pos[:,0:1]\n",
    "    y = pos[:,1:2]\n",
    "    z = pos[:,2:3]\n",
    "\n",
    "    # matrix that stores all pairwise particle separations: r_j - r_i\n",
    "    dx = x.T - x\n",
    "    dy = y.T - y\n",
    "    dz = z.T - z\n",
    "\n",
    "    # matrix that stores 1/r^3 for all particle pairwise particle separations \n",
    "    inv_r3 = (dx**2 + dy**2 + dz**2 + softening**2)\n",
    "    inv_r3[inv_r3>0] = inv_r3[inv_r3>0]**(-1.5)\n",
    "\n",
    "    ax = G * (dx * inv_r3) @ mass\n",
    "    ay = G * (dy * inv_r3) @ mass\n",
    "    az = G * (dz * inv_r3) @ mass\n",
    "\n",
    "    # pack together the acceleration components\n",
    "    a = np.hstack((ax,ay,az))\n",
    "\n",
    "    return a"
   ]
  },
  {
   "cell_type": "code",
   "execution_count": 3,
   "id": "fa2422b7",
   "metadata": {},
   "outputs": [],
   "source": [
    "def getEnergy( pos, vel, mass, G ):\n",
    "    \"\"\"\n",
    "    Get kinetic energy (KE) and potential energy (PE) of simulation\n",
    "    pos is N x 3 matrix of positions\n",
    "    vel is N x 3 matrix of velocities\n",
    "    mass is an N x 1 vector of masses\n",
    "    G is Newton's Gravitational constant\n",
    "    KE is the kinetic energy of the system\n",
    "    PE is the potential energy of the system\n",
    "    \"\"\"\n",
    "    # Kinetic Energy:\n",
    "    KE = 0.5 * np.sum(np.sum( mass * vel**2 ))\n",
    "\n",
    "\n",
    "    # Potential Energy:\n",
    "\n",
    "    # positions r = [x,y,z] for all particles\n",
    "    x = pos[:,0:1]\n",
    "    y = pos[:,1:2]\n",
    "    z = pos[:,2:3]\n",
    "\n",
    "    # matrix that stores all pairwise particle separations: r_j - r_i\n",
    "    dx = x.T - x\n",
    "    dy = y.T - y\n",
    "    dz = z.T - z\n",
    "\n",
    "    # matrix that stores 1/r for all particle pairwise particle separations \n",
    "    inv_r = np.sqrt(dx**2 + dy**2 + dz**2)\n",
    "    inv_r[inv_r>0] = 1.0/inv_r[inv_r>0]\n",
    "\n",
    "    # sum over upper triangle, to count each interaction only once\n",
    "    PE = G * np.sum(np.sum(np.triu(-(mass*mass.T)*inv_r,1)))\n",
    "\n",
    "    return KE, PE;"
   ]
  },
  {
   "cell_type": "code",
   "execution_count": 43,
   "id": "8470d573",
   "metadata": {},
   "outputs": [],
   "source": [
    "def main():\n",
    "    \"\"\" N-body simulation \"\"\"\n",
    "    # Simulation parameters\n",
    "    N         = 100    # Number of particles\n",
    "    t         = 0      # current time of the simulation\n",
    "    tEnd      = 10.0   # time at which simulation ends\n",
    "    dt        = 0.01   # timestep\n",
    "    softening = 0.1    # softening length\n",
    "    G         = 1.0    # Newton's Gravitational Constant\n",
    "    plotRealTime = True # switch on for plotting as the simulation goes along\n",
    "\n",
    "    # Generate Initial Conditions\n",
    "    np.random.seed(17)            # set the random number generator seed\n",
    "\n",
    "    mass = 20.0*np.ones((N,1))/N  # total mass of particles is 20\n",
    "    pos  = np.random.randn(N,3)   # randomly selected positions and velocities\n",
    "    vel  = np.random.randn(N,3)\n",
    "\n",
    "    # Convert to Center-of-Mass frame\n",
    "    vel -= np.mean(mass * vel,0) / np.mean(mass)\n",
    "\n",
    "    # calculate initial gravitational accelerations\n",
    "    acc = getAcc( pos, mass, G, softening )\n",
    "\n",
    "    # calculate initial energy of system\n",
    "    KE, PE  = getEnergy( pos, vel, mass, G )\n",
    "\n",
    "    # number of timesteps\n",
    "    Nt = int(np.ceil(tEnd/dt))\n",
    "\n",
    "    # save energies, particle orbits for plotting trails\n",
    "    pos_save = np.zeros((N,3,Nt+1))\n",
    "    pos_save[:,:,0] = pos\n",
    "    KE_save = np.zeros(Nt+1)\n",
    "    KE_save[0] = KE\n",
    "    PE_save = np.zeros(Nt+1)\n",
    "    PE_save[0] = PE\n",
    "    t_all = np.arange(Nt+1)*dt\n",
    "\n",
    "    # prep figure\n",
    "    fig = plt.figure(figsize=(4,5), dpi=80)\n",
    "    grid = plt.GridSpec(3, 1, wspace=0.0, hspace=0.3)\n",
    "    ax1 = fig.add_subplot(grid[0:2,0])\n",
    "    ax2 = fig.add_subplot(grid[2,0])\n",
    "\n",
    "    # Simulation Main Loop\n",
    "    for i in range(Nt):\n",
    "        # (1/2) kick\n",
    "        vel += acc * dt/2.0\n",
    "        # drift\n",
    "        pos += vel * dt\n",
    "        # update accelerations\n",
    "        acc = getAcc( pos, mass, G, softening )\n",
    "        # (1/2) kick\n",
    "        vel += acc * dt/2.0\n",
    "        # update time\n",
    "        t += dt\n",
    "        # get energy of system\n",
    "        KE, PE  = getEnergy( pos, vel, mass, G )\n",
    "        # save energies, positions for plotting trail\n",
    "        pos_save[:,:,i+1] = pos\n",
    "        KE_save[i+1] = KE\n",
    "        PE_save[i+1] = PE\n",
    "\n",
    "        # plot in real time\n",
    "        if plotRealTime or (i == Nt-1):\n",
    "            plt.sca(ax1)\n",
    "            plt.cla()\n",
    "            xx = pos_save[:,0,max(i-50,0):i+1]\n",
    "            yy = pos_save[:,1,max(i-50,0):i+1]\n",
    "            plt.scatter(xx,yy,s=1,color=[.7,.7,1])\n",
    "            plt.scatter(pos[:,0],pos[:,1],s=10,color='blue')\n",
    "            ax1.set(xlim=(-2, 2), ylim=(-2, 2))\n",
    "            ax1.set_aspect('equal', 'box')\n",
    "            ax1.set_xticks([-2,-1,0,1,2])\n",
    "            ax1.set_yticks([-2,-1,0,1,2])\n",
    "\n",
    "            fig.sca(ax2)\n",
    "            plt.cla()\n",
    "            plt.scatter(t_all,KE_save,color='red',s=1,label='KE' if i == Nt-1 else \"\")\n",
    "            plt.scatter(t_all,PE_save,color='blue',s=1,label='PE' if i == Nt-1 else \"\")\n",
    "            plt.scatter(t_all,KE_save+PE_save,color='black',s=1,label='Etot' if i == Nt-1 else \"\")\n",
    "            ax2.set(xlim=(0, tEnd), ylim=(-300, 300))\n",
    "            ax2.set_aspect(0.007)\n",
    "\n",
    "            plt.pause(0.001)\n",
    "        \n",
    "    # add labels/legend\n",
    "    plt.sca(ax2)\n",
    "    plt.xlabel('time')\n",
    "    plt.ylabel('energy')\n",
    "    ax2.legend(loc='upper right')\n",
    "\n",
    "    # Save figure\n",
    "    plt.savefig('nbody.png',dpi=240)\n",
    "    plt.show()\n",
    "\n",
    "    return 0"
   ]
  },
  {
   "cell_type": "code",
   "execution_count": 44,
   "id": "59ff0196",
   "metadata": {},
   "outputs": [
    {
     "data": {
      "image/png": "[encoded data removed]",
      "text/plain": [
       "<Figure size 320x400 with 2 Axes>"
      ]
     },
     "metadata": {},
     "output_type": "display_data"
    },
    {
     "ename": "ValueError",
     "evalue": "Axes instance argument was not found in a figure",
     "output_type": "error",
     "traceback": [
      "\u001b[0;31m---------------------------------------------------------------------------\u001b[0m",
      "\u001b[0;31mValueError\u001b[0m                                Traceback (most recent call last)",
      "Cell \u001b[0;32mIn [44], line 2\u001b[0m\n\u001b[1;32m      1\u001b[0m \u001b[38;5;28;01mif\u001b[39;00m \u001b[38;5;18m__name__\u001b[39m\u001b[38;5;241m==\u001b[39m \u001b[38;5;124m\"\u001b[39m\u001b[38;5;124m__main__\u001b[39m\u001b[38;5;124m\"\u001b[39m:\n\u001b[0;32m----> 2\u001b[0m   \u001b[43mmain\u001b[49m\u001b[43m(\u001b[49m\u001b[43m)\u001b[49m\n",
      "Cell \u001b[0;32mIn [43], line 67\u001b[0m, in \u001b[0;36mmain\u001b[0;34m()\u001b[0m\n\u001b[1;32m     65\u001b[0m \u001b[38;5;66;03m# plot in real time\u001b[39;00m\n\u001b[1;32m     66\u001b[0m \u001b[38;5;28;01mif\u001b[39;00m plotRealTime \u001b[38;5;129;01mor\u001b[39;00m (i \u001b[38;5;241m==\u001b[39m Nt\u001b[38;5;241m-\u001b[39m\u001b[38;5;241m1\u001b[39m):\n\u001b[0;32m---> 67\u001b[0m     \u001b[43mplt\u001b[49m\u001b[38;5;241;43m.\u001b[39;49m\u001b[43msca\u001b[49m\u001b[43m(\u001b[49m\u001b[43max1\u001b[49m\u001b[43m)\u001b[49m\n\u001b[1;32m     68\u001b[0m     plt\u001b[38;5;241m.\u001b[39mcla()\n\u001b[1;32m     69\u001b[0m     xx \u001b[38;5;241m=\u001b[39m pos_save[:,\u001b[38;5;241m0\u001b[39m,\u001b[38;5;28mmax\u001b[39m(i\u001b[38;5;241m-\u001b[39m\u001b[38;5;241m50\u001b[39m,\u001b[38;5;241m0\u001b[39m):i\u001b[38;5;241m+\u001b[39m\u001b[38;5;241m1\u001b[39m]\n",
      "File \u001b[0;32m~/miniconda3/envs/project/lib/python3.8/site-packages/matplotlib/pyplot.py:858\u001b[0m, in \u001b[0;36msca\u001b[0;34m(ax)\u001b[0m\n\u001b[1;32m    856\u001b[0m         m\u001b[38;5;241m.\u001b[39mcanvas\u001b[38;5;241m.\u001b[39mfigure\u001b[38;5;241m.\u001b[39msca(ax)\n\u001b[1;32m    857\u001b[0m         \u001b[38;5;28;01mreturn\u001b[39;00m\n\u001b[0;32m--> 858\u001b[0m \u001b[38;5;28;01mraise\u001b[39;00m \u001b[38;5;167;01mValueError\u001b[39;00m(\u001b[38;5;124m\"\u001b[39m\u001b[38;5;124mAxes instance argument was not found in a figure\u001b[39m\u001b[38;5;124m\"\u001b[39m)\n",
      "\u001b[0;31mValueError\u001b[0m: Axes instance argument was not found in a figure"
     ]
    }
   ],
   "source": [
    "if __name__== \"__main__\":\n",
    "  main()"
   ]
  },
  {
   "cell_type": "code",
   "execution_count": 10,
   "id": "bda228e2",
   "metadata": {},
   "outputs": [
    {
     "data": {
      "image/png": "[encoded data removed]",
      "text/plain": [
       "<Figure size 640x480 with 1 Axes>"
      ]
     },
     "metadata": {},
     "output_type": "display_data"
    }
   ],
   "source": [
    "f, ax = plt.subplots()\n",
    "ax.plot([1,2,3],[4,5,6])\n",
    "plt.sca(ax)\n",
    "plt.show()"
   ]
  },
  {
   "cell_type": "code",
   "execution_count": null,
   "id": "4cde5db1",
   "metadata": {},
   "outputs": [],
   "source": []
  }
 ],
 "metadata": {
  "kernelspec": {
   "display_name": "Python 3 (ipykernel)",
   "language": "python",
   "name": "python3"
  },
  "language_info": {
   "codemirror_mode": {
    "name": "ipython",
    "version": 3
   },
   "file_extension": ".py",
   "mimetype": "text/x-python",
   "name": "python",
   "nbconvert_exporter": "python",
   "pygments_lexer": "ipython3",
   "version": "3.8.15"
  }
 },
 "nbformat": 4,
 "nbformat_minor": 5
}
